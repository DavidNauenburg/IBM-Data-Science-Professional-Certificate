{
  "metadata": {
    "kernelspec": {
      "name": "python",
      "display_name": "Pyolite",
      "language": "python"
    },
    "language_info": {
      "codemirror_mode": {
        "name": "python",
        "version": 3
      },
      "file_extension": ".py",
      "mimetype": "text/x-python",
      "name": "python",
      "nbconvert_exporter": "python",
      "pygments_lexer": "ipython3",
      "version": "3.8"
    }
  },
  "nbformat_minor": 4,
  "nbformat": 4,
  "cells": [
    {
      "cell_type": "markdown",
      "source": "<center>\n    <img src=\"https://cf-courses-data.s3.us.cloud-object-storage.appdomain.cloud/IBMDeveloperSkillsNetwork-DS0105EN-SkillsNetwork/labs/Module2/images/SN_web_lightmode.png\" width=\"300\" alt=\"cognitiveclass.ai logo\">\n</center>\n",
      "metadata": {}
    },
    {
      "cell_type": "markdown",
      "source": "#### Add your code below following the instructions given in the course\n",
      "metadata": {}
    },
    {
      "cell_type": "markdown",
      "source": "# Data Science Tools and Ecosystem",
      "metadata": {}
    },
    {
      "cell_type": "markdown",
      "source": "Name: **David Nauenburg**\n\nOccupation: Research Associate, Software Engineering and Machine Learning",
      "metadata": {}
    },
    {
      "cell_type": "markdown",
      "source": "*In this notebook, the tools and ecosystem used in data science are summarized. I am interested in data science because I want to strengthen my knowledge to apply it to my current position. I got my degree in Bioinformatics, which is a subfield of data science. If I can strengthen my knowledge of data science I will be able to make better predictions, and provide actionable steps for my company to take to increase their productivity.*",
      "metadata": {}
    },
    {
      "cell_type": "markdown",
      "source": "**Objectives:**\n* List Data Science Languages\n* List data Science Libraries\n* Create a table showing free open-source Data Science environments\n* Show basic arithmetic operations in Python",
      "metadata": {}
    },
    {
      "cell_type": "markdown",
      "source": "### Here is a list of Data Science languages\n1. Python\n2. R\n3. Javascript\n4. C++\n5. Scala",
      "metadata": {}
    },
    {
      "cell_type": "markdown",
      "source": "### Here is a list of Data Science libraries\n1. Keras\n2. Pandas\n3. NumPy\n4. Tensorflow\n5. Seaborn\n6. Scikit-learn",
      "metadata": {
        "tags": []
      }
    },
    {
      "cell_type": "markdown",
      "source": "|Data Science Tools|\n|------------------|\n|Jupyter|\n|RStudio|\n|Apache Spark|",
      "metadata": {}
    },
    {
      "cell_type": "markdown",
      "source": "### Below are a few examples of evaluating arithmetic expressions in Python.",
      "metadata": {}
    },
    {
      "cell_type": "code",
      "source": "# This is a simple line of code mulitplying and adding integers\n(3*4)+5",
      "metadata": {
        "trusted": true
      },
      "execution_count": 6,
      "outputs": [
        {
          "execution_count": 6,
          "output_type": "execute_result",
          "data": {
            "text/plain": "17"
          },
          "metadata": {}
        }
      ]
    },
    {
      "cell_type": "code",
      "source": "# This code converts 200 minutes into hours by dividing by 60\n200 / 60",
      "metadata": {
        "trusted": true
      },
      "execution_count": 7,
      "outputs": [
        {
          "execution_count": 7,
          "output_type": "execute_result",
          "data": {
            "text/plain": "3.3333333333333335"
          },
          "metadata": {}
        }
      ]
    },
    {
      "cell_type": "markdown",
      "source": "### The code below represents the algorithm for finding the *N<sup>th</sup>* number in the Fibonacci sequence.",
      "metadata": {}
    },
    {
      "cell_type": "code",
      "source": "def fibonacci(n):\n    prev2 = 0\n    prev1 = 1\n    if n < 0:\n        print(\"Incorrect input\")\n    elif n == 0:\n        return prev2\n    elif n == 1:\n        return prev1\n    else:\n        for i in range(2, n):\n            curr = prev2 + prev1\n            prev2 = prev1\n            prev1 = curr\n        return prev1",
      "metadata": {
        "trusted": true
      },
      "execution_count": 4,
      "outputs": []
    },
    {
      "cell_type": "markdown",
      "source": "### Below are just a few examples of how you can use Markdown syntax\n\n\nBlock Code Syntax Highlighting using a short Javascript snippet\n```\nconst joinList = evt => {\n    // Get user entries from text boxes\n    const email1 = $(\"#email_1\").value;\n    const email2 = $(\"#email_2\").value;\n    const firstName = $(\"#first_name\").value;\n```\n\nProgramming languages you should learn:\n* Python\n* C++\n* ~~Javascript~~ Java\n\nThese are the steps to improve your programming:\n1. Learn basic syntax first, ie `print(\"Hello World\")`\n2. Practice LeetCode Easy and Medium problems to strengthen your algorithm skills\n3. Build a useful application that you are proud of, ie Language Learning Model, Workflow App, Website (Front/Back end), etc\n\n<a href=\"https://github.com/adam-p/markdown-here/wiki/Markdown-Cheatsheet\">Here</a> is a hyperlink to help you with Markdown Syntax.",
      "metadata": {}
    }
  ]
}